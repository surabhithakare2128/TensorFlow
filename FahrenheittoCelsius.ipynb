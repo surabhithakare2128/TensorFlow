{
  "nbformat": 4,
  "nbformat_minor": 0,
  "metadata": {
    "colab": {
      "name": "FahrenheittoCelsius.ipynb",
      "version": "0.3.2",
      "provenance": [],
      "collapsed_sections": [],
      "include_colab_link": true
    },
    "kernelspec": {
      "name": "python3",
      "display_name": "Python 3"
    }
  },
  "cells": [
    {
      "cell_type": "markdown",
      "metadata": {
        "id": "view-in-github",
        "colab_type": "text"
      },
      "source": [
        "<a href=\"https://colab.research.google.com/github/surabhithakare2128/TensorFlow/blob/master/FahrenheittoCelsius.ipynb\" target=\"_parent\"><img src=\"https://colab.research.google.com/assets/colab-badge.svg\" alt=\"Open In Colab\"/></a>"
      ]
    },
    {
      "metadata": {
        "id": "_29W_8WjTB_D",
        "colab_type": "text"
      },
      "cell_type": "markdown",
      "source": [
        "## Import dependencies"
      ]
    },
    {
      "metadata": {
        "id": "jyePglmyLxHT",
        "colab_type": "code",
        "colab": {}
      },
      "cell_type": "code",
      "source": [
        "import tensorflow as tf\n",
        "tf.logging.set_verbosity(tf.logging.ERROR)"
      ],
      "execution_count": 0,
      "outputs": []
    },
    {
      "metadata": {
        "id": "7RYLvQvXQ9j5",
        "colab_type": "code",
        "colab": {}
      },
      "cell_type": "code",
      "source": [
        "import numpy as np"
      ],
      "execution_count": 0,
      "outputs": []
    },
    {
      "metadata": {
        "id": "_RLvH1gsThWe",
        "colab_type": "text"
      },
      "cell_type": "markdown",
      "source": [
        "## Setting up training data"
      ]
    },
    {
      "metadata": {
        "id": "KKyWh4MwTf-_",
        "colab_type": "code",
        "colab": {
          "base_uri": "https://localhost:8080/",
          "height": 136
        },
        "outputId": "031741f5-95cc-449f-bf09-891907a0fc73"
      },
      "cell_type": "code",
      "source": [
        "celsius_q    = np.array([-40, -10,  0,  8, 15, 22,  38],  dtype=float)\n",
        "fahrenheit_a = np.array([-40,  14, 32, 46, 59, 72, 100],  dtype=float)\n",
        "\n",
        "for i,c in enumerate(celsius_q):\n",
        "  print(\"{} degrees Celsius = {} degrees Fahrenheit\".format(c, fahrenheit_a[i]))"
      ],
      "execution_count": 9,
      "outputs": [
        {
          "output_type": "stream",
          "text": [
            "-40.0 degrees Celsius = -40.0 degrees Fahrenheit\n",
            "-10.0 degrees Celsius = 14.0 degrees Fahrenheit\n",
            "0.0 degrees Celsius = 32.0 degrees Fahrenheit\n",
            "8.0 degrees Celsius = 46.0 degrees Fahrenheit\n",
            "15.0 degrees Celsius = 59.0 degrees Fahrenheit\n",
            "22.0 degrees Celsius = 72.0 degrees Fahrenheit\n",
            "38.0 degrees Celsius = 100.0 degrees Fahrenheit\n"
          ],
          "name": "stdout"
        }
      ]
    },
    {
      "metadata": {
        "id": "39qC7w2pXR0U",
        "colab_type": "text"
      },
      "cell_type": "markdown",
      "source": [
        "## Creating a model\n",
        "\n",
        "### Build a layer"
      ]
    },
    {
      "metadata": {
        "id": "Kka5EpMERD1j",
        "colab_type": "code",
        "colab": {}
      },
      "cell_type": "code",
      "source": [
        "l0 = tf.keras.layers.Dense(units=1, input_shape=[1])"
      ],
      "execution_count": 0,
      "outputs": []
    },
    {
      "metadata": {
        "id": "dJFd01GpaZVX",
        "colab_type": "text"
      },
      "cell_type": "markdown",
      "source": [
        "### Assemble layers into model"
      ]
    },
    {
      "metadata": {
        "id": "iO4H2LWkaRyj",
        "colab_type": "code",
        "colab": {}
      },
      "cell_type": "code",
      "source": [
        "ftocmodel = tf.keras.Sequential([l0]) #l0 is the name of layer"
      ],
      "execution_count": 0,
      "outputs": []
    },
    {
      "metadata": {
        "id": "TL9OjSJbazOk",
        "colab_type": "text"
      },
      "cell_type": "markdown",
      "source": [
        "OR you can also do\n",
        "\n",
        "ftocmodel = tf.keras.Sequential([\n",
        "       tf.keras.layers.Dense(units=1, input_shape=[1])\n",
        "])"
      ]
    },
    {
      "metadata": {
        "id": "lXzrhhDXbbRD",
        "colab_type": "text"
      },
      "cell_type": "markdown",
      "source": [
        "## Compiling model with loss and optimizer functions"
      ]
    },
    {
      "metadata": {
        "id": "wGF2OTfkackg",
        "colab_type": "code",
        "colab": {}
      },
      "cell_type": "code",
      "source": [
        "ftocmodel.compile(loss='mean_squared_error',\n",
        "                 optimizer=tf.keras.optimizers.Adam(0.1))"
      ],
      "execution_count": 0,
      "outputs": []
    },
    {
      "metadata": {
        "id": "4hmoH8oLcvA8",
        "colab_type": "text"
      },
      "cell_type": "markdown",
      "source": [
        "## Train the model"
      ]
    },
    {
      "metadata": {
        "id": "WG4EiHLDaxc-",
        "colab_type": "code",
        "colab": {
          "base_uri": "https://localhost:8080/",
          "height": 34
        },
        "outputId": "05a615d9-f6b2-44ba-b4b0-df495b8c38d4"
      },
      "cell_type": "code",
      "source": [
        "history = ftocmodel.fit(celsius_q,fahrenheit_a,epochs=500,verbose=False)\n",
        "print(\"Training Finished\")"
      ],
      "execution_count": 14,
      "outputs": [
        {
          "output_type": "stream",
          "text": [
            "Training Finished\n"
          ],
          "name": "stdout"
        }
      ]
    },
    {
      "metadata": {
        "id": "ayoNHaEXdkaa",
        "colab_type": "text"
      },
      "cell_type": "markdown",
      "source": [
        "## Displaying training statistics"
      ]
    },
    {
      "metadata": {
        "id": "FyNwqQJgdg3O",
        "colab_type": "code",
        "colab": {
          "base_uri": "https://localhost:8080/",
          "height": 296
        },
        "outputId": "3e0ac218-948a-41c7-ed96-f7af0e18d1a5"
      },
      "cell_type": "code",
      "source": [
        "import matplotlib.pyplot as plt\n",
        "%matplotlib inline\n",
        "\n",
        "plt.xlabel(\"Epoch Number\")\n",
        "plt.ylabel(\"Loss\")\n",
        "plt.plot(history.history['loss'])"
      ],
      "execution_count": 25,
      "outputs": [
        {
          "output_type": "execute_result",
          "data": {
            "text/plain": [
              "[<matplotlib.lines.Line2D at 0x7f828a9a3240>]"
            ]
          },
          "metadata": {
            "tags": []
          },
          "execution_count": 25
        },
        {
          "output_type": "display_data",
          "data": {
            "image/png": "[encoded data removed]",
            "text/plain": [
              "<Figure size 432x288 with 1 Axes>"
            ]
          },
          "metadata": {
            "tags": []
          }
        }
      ]
    },
    {
      "metadata": {
        "id": "iXheMRNxep6f",
        "colab_type": "text"
      },
      "cell_type": "markdown",
      "source": [
        "## Use the model to predict "
      ]
    },
    {
      "metadata": {
        "id": "Vl1QYavTeAz8",
        "colab_type": "code",
        "colab": {
          "base_uri": "https://localhost:8080/",
          "height": 34
        },
        "outputId": "4c5af7cc-1b2b-40b3-92b6-1d9a530d9b6a"
      },
      "cell_type": "code",
      "source": [
        "print(ftocmodel.predict([100])) #actual answer should be 212"
      ],
      "execution_count": 28,
      "outputs": [
        {
          "output_type": "stream",
          "text": [
            "[[211.74289]]\n"
          ],
          "name": "stdout"
        }
      ]
    },
    {
      "metadata": {
        "id": "FbUAkcsVeKJR",
        "colab_type": "code",
        "colab": {
          "base_uri": "https://localhost:8080/",
          "height": 51
        },
        "outputId": "817852dd-9bf4-45c3-d4f8-0be7df10c91d"
      },
      "cell_type": "code",
      "source": [
        "print(ftocmodel.predict([0, 10]))"
      ],
      "execution_count": 30,
      "outputs": [
        {
          "output_type": "stream",
          "text": [
            "[[31.92086]\n",
            " [49.90306]]\n"
          ],
          "name": "stdout"
        }
      ]
    },
    {
      "metadata": {
        "id": "qQviaAfmfUKC",
        "colab_type": "text"
      },
      "cell_type": "markdown",
      "source": [
        "## Looking at the layer weights"
      ]
    },
    {
      "metadata": {
        "id": "UumDKsNJfGI3",
        "colab_type": "code",
        "colab": {
          "base_uri": "https://localhost:8080/",
          "height": 34
        },
        "outputId": "32066d8a-a2e0-4b6f-8116-62676cdb4c7c"
      },
      "cell_type": "code",
      "source": [
        "print(\"These are the layer variables: {}\".format(l0.get_weights()))"
      ],
      "execution_count": 31,
      "outputs": [
        {
          "output_type": "stream",
          "text": [
            "These are the layer variables: [array([[1.7982202]], dtype=float32), array([31.92086], dtype=float32)]\n"
          ],
          "name": "stdout"
        }
      ]
    },
    {
      "metadata": {
        "id": "W-coXKnFfkKQ",
        "colab_type": "text"
      },
      "cell_type": "markdown",
      "source": [
        "# Experimenting with other characteristics"
      ]
    },
    {
      "metadata": {
        "id": "oS1eEEM0fYi2",
        "colab_type": "code",
        "colab": {
          "base_uri": "https://localhost:8080/",
          "height": 51
        },
        "outputId": "2264e4ed-9861-4d5d-ab16-684b41db3d39"
      },
      "cell_type": "code",
      "source": [
        "ftocmodel1 = tf.keras.Sequential([\n",
        "    tf.keras.layers.Dense(units=1, input_shape=[1])\n",
        "])\n",
        "\n",
        "ftocmodel1.compile(loss='mean_squared_error',\n",
        "                 optimizer=tf.keras.optimizers.Adam(0.1))\n",
        "\n",
        "history = ftocmodel1.fit(celsius_q,fahrenheit_a,epochs=30000,verbose=False)\n",
        "print(\"Training Finished\")\n",
        "\n",
        "print(ftocmodel1.predict([100]))"
      ],
      "execution_count": 37,
      "outputs": [
        {
          "output_type": "stream",
          "text": [
            "Training Finished\n",
            "[[211.77554]]\n"
          ],
          "name": "stdout"
        }
      ]
    },
    {
      "metadata": {
        "id": "-tgMHRUvgT3o",
        "colab_type": "code",
        "colab": {
          "base_uri": "https://localhost:8080/",
          "height": 296
        },
        "outputId": "a1a1508e-aa0f-4e3a-de5a-ae263daada08"
      },
      "cell_type": "code",
      "source": [
        "plt.xlabel(\"Epoch Number\")\n",
        "plt.ylabel(\"Loss\")\n",
        "plt.plot(history.history['loss'])"
      ],
      "execution_count": 38,
      "outputs": [
        {
          "output_type": "execute_result",
          "data": {
            "text/plain": [
              "[<matplotlib.lines.Line2D at 0x7f828906e908>]"
            ]
          },
          "metadata": {
            "tags": []
          },
          "execution_count": 38
        },
        {
          "output_type": "display_data",
          "data": {
            "image/png": "[encoded data removed]",
            "text/plain": [
              "<Figure size 432x288 with 1 Axes>"
            ]
          },
          "metadata": {
            "tags": []
          }
        }
      ]
    },
    {
      "metadata": {
        "id": "JbTADu9jgvos",
        "colab_type": "code",
        "colab": {
          "base_uri": "https://localhost:8080/",
          "height": 34
        },
        "outputId": "7c64b1bb-1de3-4c4f-c85e-5db3e59e71ef"
      },
      "cell_type": "code",
      "source": [
        "print(\"These are the layer variables: {}\".format(ftocmodel1.get_weights()))"
      ],
      "execution_count": 41,
      "outputs": [
        {
          "output_type": "stream",
          "text": [
            "These are the layer variables: [array([[1.7982274]], dtype=float32), array([31.952805], dtype=float32)]\n"
          ],
          "name": "stdout"
        }
      ]
    },
    {
      "metadata": {
        "id": "dXIiNoacg0NY",
        "colab_type": "text"
      },
      "cell_type": "markdown",
      "source": [
        "# This shows that the performance may not improve after a particular number of epochs"
      ]
    }
  ]
}